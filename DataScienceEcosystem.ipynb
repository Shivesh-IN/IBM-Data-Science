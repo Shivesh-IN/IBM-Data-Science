{
 "cells": [
  {
   "cell_type": "markdown",
   "id": "8bf26a59-abc8-4f46-9433-fd517e6bdfbe",
   "metadata": {},
   "source": [
    "<h1>Data Science Tools and Ecosystem<h1>"
   ]
  },
  {
   "cell_type": "markdown",
   "id": "b4be8ee4-0e4d-4d1f-b1cb-a027e3203e95",
   "metadata": {},
   "source": [
    "In this notebook, Data Science Tools and Ecosystem are summarized."
   ]
  },
  {
   "cell_type": "markdown",
   "id": "b42507ff-941c-4a75-86bc-1fa1cf57a3d2",
   "metadata": {},
   "source": [
    "Some of the popular languages that Data Scientists use are:\n",
    "1. Python\n",
    "2. R\n",
    "3. Scala"
   ]
  },
  {
   "cell_type": "markdown",
   "id": "00787076-00fd-4348-a876-15d7689653c8",
   "metadata": {},
   "source": [
    "Some of the commonly used libraries used by Data Scientists include:\n",
    "1. NumPy\n",
    "2. Pandas\n",
    "3. MatPlotLib"
   ]
  },
  {
   "cell_type": "markdown",
   "id": "c6d0cfeb-1a4e-492f-afe6-dc7c7dbe4d7a",
   "metadata": {},
   "source": [
    "| Data Science Tools |\n",
    "| --- |\n",
    "| MongoDB |\n",
    "| Apache SparkSQL |\n",
    "| TensorFlow |"
   ]
  },
  {
   "cell_type": "markdown",
   "id": "8d9f705e-926f-4856-b251-2816e010b654",
   "metadata": {},
   "source": [
    "<h3>Below are a few examples of evaluating arithmetic expressions in Python<h3>"
   ]
  },
  {
   "cell_type": "code",
   "execution_count": 4,
   "id": "fc96895b-dcf7-4d7a-a149-5304e7030d8e",
   "metadata": {},
   "outputs": [
    {
     "data": {
      "text/plain": [
       "17"
      ]
     },
     "execution_count": 4,
     "metadata": {},
     "output_type": "execute_result"
    }
   ],
   "source": [
    "# This a simple arithmetic expression to mutiply then add integers. \n",
    "(3*4)+5"
   ]
  },
  {
   "cell_type": "code",
   "execution_count": 9,
   "id": "1b53ad79-d2ed-4bc2-aae6-4602311e1238",
   "metadata": {},
   "outputs": [
    {
     "name": "stdout",
     "output_type": "stream",
     "text": [
      "3.3333333333333335\n"
     ]
    }
   ],
   "source": [
    "# This will convert 200 minutes to hours by diving by 60.\n",
    "i = 200\n",
    "hours = i / 60\n",
    "print(hours)"
   ]
  },
  {
   "cell_type": "markdown",
   "id": "d427585c-819e-43d8-8cb1-8f6d3b6bc4d7",
   "metadata": {},
   "source": [
    "**Objectives:**\n",
    "*Python\n",
    "*Java\n",
    "*Scala"
   ]
  },
  {
   "cell_type": "markdown",
   "id": "cc5c2381-9352-46a1-91c0-d2903fa0964e",
   "metadata": {},
   "source": [
    "<h2>Author<h2>"
   ]
  },
  {
   "cell_type": "markdown",
   "id": "da03017c",
   "metadata": {},
   "source": [
    "Shivesh-IN"
   ]
  }
 ],
 "metadata": {
  "kernelspec": {
   "display_name": "Python 3 (ipykernel)",
   "language": "python",
   "name": "python3"
  },
  "language_info": {
   "codemirror_mode": {
    "name": "ipython",
    "version": 3
   },
   "file_extension": ".py",
   "mimetype": "text/x-python",
   "name": "python",
   "nbconvert_exporter": "python",
   "pygments_lexer": "ipython3",
   "version": "3.12.8"
  }
 },
 "nbformat": 4,
 "nbformat_minor": 5
}
